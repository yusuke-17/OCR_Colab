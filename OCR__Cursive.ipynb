{
  "nbformat": 4,
  "nbformat_minor": 0,
  "metadata": {
    "colab": {
      "provenance": [],
      "authorship_tag": "ABX9TyMzwUwkJ2GUwODHAl7qiK12",
      "include_colab_link": true
    },
    "kernelspec": {
      "name": "python3",
      "display_name": "Python 3"
    },
    "language_info": {
      "name": "python"
    }
  },
  "cells": [
    {
      "cell_type": "markdown",
      "metadata": {
        "id": "view-in-github",
        "colab_type": "text"
      },
      "source": [
        "<a href=\"https://colab.research.google.com/github/yusuke-17/OCR_Colab/blob/main/OCR__Cursive.ipynb\" target=\"_parent\"><img src=\"https://colab.research.google.com/assets/colab-badge.svg\" alt=\"Open In Colab\"/></a>"
      ]
    },
    {
      "cell_type": "code",
      "execution_count": null,
      "metadata": {
        "id": "mPEQGkYU25kj"
      },
      "outputs": [],
      "source": [
        "!apt install tesseract-ocr libtesseract-dev"
      ]
    },
    {
      "cell_type": "code",
      "source": [
        "!pip install pyocr\n",
        "# !pip install pytesseract Pillow"
      ],
      "metadata": {
        "id": "ioZcEQax4WSY",
        "colab": {
          "base_uri": "https://localhost:8080/"
        },
        "outputId": "91c49566-bc62-4bfd-d2b1-db122c83ca06"
      },
      "execution_count": 7,
      "outputs": [
        {
          "output_type": "stream",
          "name": "stdout",
          "text": [
            "Collecting pyocr\n",
            "  Downloading pyocr-0.8.5-py3-none-any.whl (40 kB)\n",
            "\u001b[?25l     \u001b[90m━━━━━━━━━━━━━━━━━━━━━━━━━━━━━━━━━━━━━━━━\u001b[0m \u001b[32m0.0/40.0 kB\u001b[0m \u001b[31m?\u001b[0m eta \u001b[36m-:--:--\u001b[0m\r\u001b[2K     \u001b[90m━━━━━━━━━━━━━━━━━━━━━━━━━━━━━━━━━━━━━━━━\u001b[0m \u001b[32m40.0/40.0 kB\u001b[0m \u001b[31m1.5 MB/s\u001b[0m eta \u001b[36m0:00:00\u001b[0m\n",
            "\u001b[?25hRequirement already satisfied: Pillow in /usr/local/lib/python3.10/dist-packages (from pyocr) (9.4.0)\n",
            "Installing collected packages: pyocr\n",
            "Successfully installed pyocr-0.8.5\n"
          ]
        }
      ]
    },
    {
      "cell_type": "code",
      "source": [
        "from PIL import Image\n",
        "Image.open(\"SC_C.png\")"
      ],
      "metadata": {
        "id": "IflwNAu94qaj"
      },
      "execution_count": null,
      "outputs": []
    },
    {
      "cell_type": "code",
      "source": [
        "from PIL import Image\n",
        "from PIL import ImageFilter\n",
        "import pyocr\n",
        "import pyocr.builders\n",
        "\n",
        "tools = pyocr.get_available_tools()\n",
        "#OCRが使えるかチェック\n",
        "if len(tools) == 0:\n",
        "    print('OCRツールが使えません')\n",
        "    sys.exit(1)\n",
        "\n",
        "tool = tools[0]\n",
        "print(\"インストールされているOCRツールは', %s\" % (tool.get_name()) ,'です。\\n Tesseract（テッセラクト）は光学文字認識のエンジンです。\\n\\n')\n",
        "\n",
        "langs = tool.get_available_languages()\n",
        "print(langs,'などの言語を指定できます。')\n",
        "\n",
        "# 画像を二値化してコントラストを強調\n",
        "image = Image.open(\"SC_C.png\") #ここを変更\n",
        "image = image.convert('L')\n",
        "image = image.point(lambda x: 0 if x < 128 else 255, '1')  # 二値化\n",
        "image = image.filter(ImageFilter.MedianFilter())  # メディアンフィルタを適用してノイズを削除\n",
        "\n",
        "# 画像のシャープネスを向上させる\n",
        "image = image.filter(ImageFilter.SHARPEN)\n",
        "\n",
        "# OCRを実行する画像イメージや言語指定、オプション指定\n",
        "txt = tool.image_to_string(\n",
        "    image,\n",
        "    lang='eng',\n",
        "    builder=pyocr.builders.TextBuilder(tesseract_layout=11)\n",
        ")\n",
        "\n",
        "print('\\n\\nOCR（光学文字認識）の実行結果\\n\\n\\n__________________\\n\\n',txt, '\\n\\n__________________\\n\\n')"
      ],
      "metadata": {
        "id": "rg-OHiup7ZUF",
        "colab": {
          "base_uri": "https://localhost:8080/"
        },
        "outputId": "fb698503-91ea-4965-b3d8-1a31dad39299"
      },
      "execution_count": 13,
      "outputs": [
        {
          "output_type": "stream",
          "name": "stdout",
          "text": [
            "インストールされているOCRツールは', Tesseract (sh) です。\n",
            " Tesseract（テッセラクト）は光学文字認識のエンジンです。\n",
            "\n",
            "\n",
            "['eng', 'osd'] などの言語を指定できます。\n",
            "\n",
            "\n",
            "OCR（光学文字認識）の実行結果\n",
            "\n",
            "\n",
            "__________________\n",
            "\n",
            " 1fagama Bandoh (hibe\n",
            "\n",
            "Debate Eph Fon\n",
            "\n",
            "itch faskimife: Tnagafi\n",
            "\n",
            "Ginnar Kegama: (atumit\n",
            "\n",
            "[|eima (amare Pobushe\n",
            "\n",
            "Sagele Tobefge (fobide\n",
            "\n",
            "bt /inabe Yomube Zaigen \n",
            "\n",
            "__________________\n",
            "\n",
            "\n"
          ]
        }
      ]
    }
  ]
}